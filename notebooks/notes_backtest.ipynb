{
 "cells": [
  {
   "cell_type": "code",
   "execution_count": null,
   "id": "6a925c67-ca70-4352-a481-ab08a57122f9",
   "metadata": {},
   "outputs": [],
   "source": [
    "%load_ext autoreload\n",
    "%autoreload 2\n",
    "%run notebook_setup.py"
   ]
  },
  {
   "cell_type": "code",
   "execution_count": null,
   "id": "c351e684-c495-465a-bfde-7e03888aff15",
   "metadata": {},
   "outputs": [],
   "source": [
    "import sys\n",
    "import os\n",
    "from backtest import *"
   ]
  },
  {
   "cell_type": "code",
   "execution_count": null,
   "id": "97f846a3-874c-48f4-93d8-829edc0b4bce",
   "metadata": {
    "scrolled": true
   },
   "outputs": [],
   "source": [
    "config = load_config('configs/template.json')\n",
    "{k: config[k] for k in ['backtest', 'bot', 'live']}"
   ]
  },
  {
   "cell_type": "code",
   "execution_count": null,
   "id": "60155aa0-a1d3-4763-b314-5e015643b527",
   "metadata": {},
   "outputs": [],
   "source": [
    "#config['backtest']['symbols'] = config['backtest']['symbols'][::10]\n",
    "config['backtest']['start_date'] = '2024-03-01'\n"
   ]
  },
  {
   "cell_type": "code",
   "execution_count": null,
   "id": "4b7b1beb-b661-4871-9750-687d8eeafd3f",
   "metadata": {},
   "outputs": [],
   "source": [
    "symbols = config['backtest']['symbols']\n",
    "symbols, hlcvs, mss, results_path = await prepare_hlcvs_mss(config)"
   ]
  },
  {
   "cell_type": "code",
   "execution_count": null,
   "id": "2f473002-2ba5-41e3-9f06-ff56aaea2318",
   "metadata": {},
   "outputs": [],
   "source": [
    "#config['bot']['long']['n_positions'] = 3\n",
    "#config['bot']['long']['filter_rolling_window'] = 1440\n",
    "#config['bot']['long']['filter_relative_volume_clip_pct'] = 0.5"
   ]
  },
  {
   "cell_type": "code",
   "execution_count": null,
   "id": "ef8d0f05-37ab-4a56-ab17-07a3cd0d70b7",
   "metadata": {},
   "outputs": [],
   "source": [
    "fills, equities, analysis = run_backtest(hlcvs, mss, config)"
   ]
  },
  {
   "cell_type": "code",
   "execution_count": null,
   "id": "b0a86c90-e834-4016-abfa-8158e2d227cb",
   "metadata": {},
   "outputs": [],
   "source": [
    "sts = utc_ms()\n",
    "fdf = process_forager_fills(fills)\n",
    "print(f'elapsed {utc_ms() - sts}')\n",
    "sts = utc_ms()\n",
    "equities = pd.Series(equities)\n",
    "analysis_py, balance_and_equity = analyze_fills_forager(config['backtest']['symbols'], hlcvs, fdf, equities)\n",
    "for k in analysis_py:\n",
    "    if k not in analysis:\n",
    "        analysis[k] = analysis_py[k]\n",
    "print(f'elapsed {utc_ms() - sts}')\n",
    "pprint.pprint(analysis)\n",
    "balance_and_equity.plot()"
   ]
  },
  {
   "cell_type": "code",
   "execution_count": null,
   "id": "e4be85e1-6a27-4864-8e5f-cd78d23abf52",
   "metadata": {},
   "outputs": [],
   "source": []
  },
  {
   "cell_type": "code",
   "execution_count": null,
   "id": "7aa52402-c254-4ffa-8393-cef7f9428b1c",
   "metadata": {},
   "outputs": [],
   "source": [
    "syms_sorted_by_volume = fdf.groupby('symbol').fee_paid.sum().sort_values().index.to_list()\n",
    "for i, symbol in enumerate(syms_sorted_by_volume[:5]):\n",
    "    print(f\"Plotting fills for {symbol}\")\n",
    "    hlcs_df = pd.DataFrame(hlcs[:, symbols.index(symbol), :], columns=[\"high\", \"low\", \"close\"])\n",
    "    fdfc = fdf[fdf.symbol == symbol]\n",
    "    plt.clf()\n",
    "    plot_fills_forager(fdfc, hlcs_df)\n",
    "    plt.title(f\"Fills {symbol}\")\n",
    "    plt.xlabel = \"time\"\n",
    "    plt.ylabel = \"price\"\n",
    "    plt.show()\n"
   ]
  },
  {
   "cell_type": "code",
   "execution_count": null,
   "id": "9f424466-4fd1-4e87-a7fe-c33f29e9f435",
   "metadata": {},
   "outputs": [],
   "source": []
  },
  {
   "cell_type": "code",
   "execution_count": null,
   "id": "55019c75-93fc-459b-9a7d-4fd3a1f0d18a",
   "metadata": {},
   "outputs": [],
   "source": []
  },
  {
   "cell_type": "code",
   "execution_count": null,
   "id": "65367064-6d79-47ca-93e0-94f5b8067518",
   "metadata": {},
   "outputs": [],
   "source": []
  }
 ],
 "metadata": {
  "kernelspec": {
   "display_name": "Python (venv)",
   "language": "python",
   "name": "venv"
  },
  "language_info": {
   "codemirror_mode": {
    "name": "ipython",
    "version": 3
   },
   "file_extension": ".py",
   "mimetype": "text/x-python",
   "name": "python",
   "nbconvert_exporter": "python",
   "pygments_lexer": "ipython3",
   "version": "3.9.18"
  }
 },
 "nbformat": 4,
 "nbformat_minor": 5
}
